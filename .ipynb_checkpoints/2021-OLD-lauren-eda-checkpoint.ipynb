{
 "cells": [
  {
   "cell_type": "markdown",
   "id": "e28a0683",
   "metadata": {},
   "source": [
    "# Set Up"
   ]
  },
  {
   "cell_type": "code",
   "execution_count": 1082,
   "id": "6e0e043a",
   "metadata": {},
   "outputs": [],
   "source": [
    "import pandas\n",
    "import pandas as pd\n",
    "from datetime import datetime\n",
    "# read in CSV\n",
    "RAW_DF = pd.read_csv('surveyresponses2021.csv')"
   ]
  },
  {
   "cell_type": "code",
   "execution_count": 1083,
   "id": "c0c7755a",
   "metadata": {},
   "outputs": [],
   "source": [
    "# DATA CLEANING\n",
    "\n",
    "# drop metadata columns\n",
    "CLEAN_DF = RAW_DF.drop(columns=['StartDate', 'EndDate', 'Status', 'Progress', 'Duration (in seconds)', 'Finished', 'RecordedDate', 'ResponseId', 'DistributionChannel', 'UserLanguage'])\n",
    "# create question key\n",
    "QUESTION_KEY = CLEAN_DF.drop(range(1, CLEAN_DF.shape[0])).to_dict()\n",
    "# drop metadata rows\n",
    "CLEAN_DF = CLEAN_DF.drop([0, 1])\n",
    "\n",
    "# standardize expected graduation date with datetime\n",
    "DATETIME_COL = pd.to_datetime(CLEAN_DF['Q2'], errors='coerce')\n",
    "DATETIME_COL[DATETIME_COL.isna()] = pd.to_datetime(CLEAN_DF['Q2'][DATETIME_COL.isna()], errors='coerce', format='%M/%y')\n",
    "# add column with expected graduation date as datetime\n",
    "CLEAN_DF['Q2_DT'] = DATETIME_COL\n",
    "# drop responses for respondents outside of graduation date range\n",
    "CLEAN_DF = CLEAN_DF[(datetime(2020, 9, 1) <= CLEAN_DF['Q2_DT']) & (CLEAN_DF['Q2_DT'] <= datetime(2025, 8, 31))]"
   ]
  },
  {
   "cell_type": "code",
   "execution_count": 1084,
   "id": "0d38337f",
   "metadata": {},
   "outputs": [],
   "source": [
    "# CONSTANTS\n",
    "\n",
    "# schools\n",
    "ARTS_HUMANITIES = ['Art, Film, and Visual Studies', 'Classics', 'Comparative Literature', 'East Asian Studies', 'English', 'Folklore and Mythology', 'Germanic Languages and Literatures', 'History and Literature', 'History of Art and Architecture', 'Linguistics', 'Music', 'Near Eastern Languages and Civilizations', 'Philosophy', 'Religion, Comparative Study of', 'Romance Languages and Literatures', 'Slavic Languages and Literatures', 'South Asian Studies', 'Theater, Dance, & Media']\n",
    "SOCIAL_SCIENCES = ['African and African American Studies', 'Anthropology', 'Economics', 'Environmental Science and Public Policy', 'Government', 'History', 'History and Science', 'Psychology', 'Social Studies', 'Sociology', 'Women, Gender, and Sexuality, Study of']\n",
    "PURE_SCIENCES = ['Astrophysics', 'Chemical and Physical Biology', 'Chemistry', 'Chemistry and Physics', 'Earth and Planetary Sciences', 'Human Developmental and Regenerative Biology', 'Human Evolutionary Biology', 'Integrative Biology', 'Mathematics', 'Molecular and Cellular Biology', 'Neuroscience', 'Physics', 'Statistics']\n",
    "SEAS = ['Applied Mathematics', 'Biomedical Engineering', 'Computer Science', 'Electrical Engineering', 'Engineering Sciences', 'Environmental Science and Engineering', 'Mechanical Engineering']\n",
    "UNDECIDED = ['Undecided']\n",
    "NONE = ['None']\n",
    "\n",
    "# class year\n",
    "FIRSTYEAR = (datetime(2024, 9, 1) <= CLEAN_DF['Q2_DT']) & (CLEAN_DF['Q2_DT'] <= datetime(2025, 8, 31))\n",
    "SOPHOMORE = (datetime(2023, 9, 1) <= CLEAN_DF['Q2_DT']) & (CLEAN_DF['Q2_DT'] <= datetime(2024, 8, 31))\n",
    "JUNIOR = (datetime(2022, 9, 1) <= CLEAN_DF['Q2_DT']) & (CLEAN_DF['Q2_DT'] <= datetime(2023, 8, 31))\n",
    "SENIOR = (datetime(2021, 9, 1) <= CLEAN_DF['Q2_DT']) & (CLEAN_DF['Q2_DT'] <= datetime(2022, 8, 31))\n",
    "\n",
    "# gender identity\n",
    "MALE = ['Man']\n",
    "NONMALE = ['Woman', 'Non-binary']\n",
    "\n",
    "# sexual orientation\n",
    "STRAIGHT = ['Straight/Heterosexual']\n",
    "NONSTRAIGHT = ['Queer', 'Questioning or unsure']\n",
    "\n",
    "# diagnosed with disability/impairment\n",
    "DIAGNOSED = ['Yes, I have been diagnosed with a disability or impairment']\n",
    "NONDIAGNOSED = ['No, I have not been diagnosed with a disability or impairment']\n"
   ]
  },
  {
   "cell_type": "code",
   "execution_count": 1085,
   "id": "202b0b6b",
   "metadata": {},
   "outputs": [],
   "source": [
    "# LIKERT SCALES\n",
    "\n",
    "LIKERT_KNOWLEDGE_KEY = {\n",
    "    'Significantly less knowledgeable' : 1,\n",
    "    'Less knowledgeable' : 2,\n",
    "    'Slightly less knowledgeable' : 3,\n",
    "    'Similarly knowledgeable' : 4,\n",
    "    'Slightly more knowledgeable' : 5,\n",
    "    'More knowledgeable' : 6,\n",
    "    'Significantly more knowledgeable' : 7\n",
    "}\n",
    "\n",
    "LIKERT_AGREEMENT_KEY = {\n",
    "    'Strongly disagree' : 1,\n",
    "    'Disagree' : 2,\n",
    "    'Somewhat disagree' : 3,\n",
    "    'Neither agree nor disagree' : 4,\n",
    "    'Somewhat agree' : 5,\n",
    "    'Agree' : 6,\n",
    "    'Strongly agree' : 7\n",
    "}"
   ]
  },
  {
   "cell_type": "markdown",
   "id": "24908222",
   "metadata": {},
   "source": [
    "# Demo"
   ]
  },
  {
   "cell_type": "markdown",
   "id": "04502748",
   "metadata": {},
   "source": [
    "### Question key"
   ]
  },
  {
   "cell_type": "code",
   "execution_count": 1086,
   "id": "7a87d20c",
   "metadata": {},
   "outputs": [
    {
     "name": "stdout",
     "output_type": "stream",
     "text": [
      "What is your intended concentration?\n",
      "\n",
      "If you are a joint concentrator, select your primary concentration. If you are undeclared, you may still select an intended concentration.\n"
     ]
    },
    {
     "data": {
      "text/html": [
       "<div>\n",
       "<style scoped>\n",
       "    .dataframe tbody tr th:only-of-type {\n",
       "        vertical-align: middle;\n",
       "    }\n",
       "\n",
       "    .dataframe tbody tr th {\n",
       "        vertical-align: top;\n",
       "    }\n",
       "\n",
       "    .dataframe thead th {\n",
       "        text-align: right;\n",
       "    }\n",
       "</style>\n",
       "<table border=\"1\" class=\"dataframe\">\n",
       "  <thead>\n",
       "    <tr style=\"text-align: right;\">\n",
       "      <th></th>\n",
       "      <th>Q1</th>\n",
       "      <th>Q2</th>\n",
       "      <th>Q3</th>\n",
       "      <th>Q4</th>\n",
       "      <th>Q5</th>\n",
       "      <th>Q6</th>\n",
       "      <th>Q6_5_TEXT</th>\n",
       "      <th>Q7_1</th>\n",
       "      <th>Q7_2</th>\n",
       "      <th>Q7_3</th>\n",
       "      <th>...</th>\n",
       "      <th>Q31</th>\n",
       "      <th>Q32</th>\n",
       "      <th>Q33</th>\n",
       "      <th>Q33_8_TEXT</th>\n",
       "      <th>Q34</th>\n",
       "      <th>Q35</th>\n",
       "      <th>Q36</th>\n",
       "      <th>Q37</th>\n",
       "      <th>Q37_4_TEXT</th>\n",
       "      <th>Q2_DT</th>\n",
       "    </tr>\n",
       "  </thead>\n",
       "  <tbody>\n",
       "    <tr>\n",
       "      <th>2</th>\n",
       "      <td>Computer Science</td>\n",
       "      <td>06/2025</td>\n",
       "      <td>Yes</td>\n",
       "      <td>Computer Science</td>\n",
       "      <td>My first-year academic advisor</td>\n",
       "      <td>In high school (including summer after graduat...</td>\n",
       "      <td>NaN</td>\n",
       "      <td>4</td>\n",
       "      <td>3</td>\n",
       "      <td>2</td>\n",
       "      <td>...</td>\n",
       "      <td>No</td>\n",
       "      <td>Straight/Heterosexual</td>\n",
       "      <td>White</td>\n",
       "      <td>NaN</td>\n",
       "      <td>No, not of Hispanic or Latinx origin</td>\n",
       "      <td>No</td>\n",
       "      <td>Yes</td>\n",
       "      <td>No, I have not been diagnosed with a disabilit...</td>\n",
       "      <td>NaN</td>\n",
       "      <td>2025-06-01</td>\n",
       "    </tr>\n",
       "    <tr>\n",
       "      <th>3</th>\n",
       "      <td>Computer Science</td>\n",
       "      <td>05/2025</td>\n",
       "      <td>Yes</td>\n",
       "      <td>Computer Science</td>\n",
       "      <td>NaN</td>\n",
       "      <td>In high school (including summer after graduat...</td>\n",
       "      <td>NaN</td>\n",
       "      <td>5</td>\n",
       "      <td>3</td>\n",
       "      <td>4</td>\n",
       "      <td>...</td>\n",
       "      <td>No</td>\n",
       "      <td>Straight/Heterosexual</td>\n",
       "      <td>Asian</td>\n",
       "      <td>NaN</td>\n",
       "      <td>No, not of Hispanic or Latinx origin</td>\n",
       "      <td>No</td>\n",
       "      <td>No</td>\n",
       "      <td>No, I have not been diagnosed with a disabilit...</td>\n",
       "      <td>NaN</td>\n",
       "      <td>2025-05-01</td>\n",
       "    </tr>\n",
       "    <tr>\n",
       "      <th>4</th>\n",
       "      <td>Undecided</td>\n",
       "      <td>05/2024</td>\n",
       "      <td>No</td>\n",
       "      <td>Art, Film, and Visual Studies,Comparative Lite...</td>\n",
       "      <td>Department heads,Department faculty,Department...</td>\n",
       "      <td>I have never been taught programming or comput...</td>\n",
       "      <td>NaN</td>\n",
       "      <td>NaN</td>\n",
       "      <td>NaN</td>\n",
       "      <td>NaN</td>\n",
       "      <td>...</td>\n",
       "      <td>Prefer not to say</td>\n",
       "      <td>Queer</td>\n",
       "      <td>Asian</td>\n",
       "      <td>NaN</td>\n",
       "      <td>No, not of Hispanic or Latinx origin</td>\n",
       "      <td>No</td>\n",
       "      <td>No</td>\n",
       "      <td>No, I have not been diagnosed with a disabilit...</td>\n",
       "      <td>NaN</td>\n",
       "      <td>2024-05-01</td>\n",
       "    </tr>\n",
       "    <tr>\n",
       "      <th>5</th>\n",
       "      <td>Physics</td>\n",
       "      <td>05/2024</td>\n",
       "      <td>Yes</td>\n",
       "      <td>Physics</td>\n",
       "      <td>Residential advising resources, such as house ...</td>\n",
       "      <td>In college</td>\n",
       "      <td>NaN</td>\n",
       "      <td>NaN</td>\n",
       "      <td>NaN</td>\n",
       "      <td>NaN</td>\n",
       "      <td>...</td>\n",
       "      <td>No</td>\n",
       "      <td>Questioning or unsure</td>\n",
       "      <td>Asian,Native Hawaiian or Other Pacific Islander</td>\n",
       "      <td>NaN</td>\n",
       "      <td>No, not of Hispanic or Latinx origin</td>\n",
       "      <td>No</td>\n",
       "      <td>No</td>\n",
       "      <td>No, I have not been diagnosed with a disabilit...</td>\n",
       "      <td>NaN</td>\n",
       "      <td>2024-05-01</td>\n",
       "    </tr>\n",
       "    <tr>\n",
       "      <th>6</th>\n",
       "      <td>Applied Mathematics</td>\n",
       "      <td>05/2024</td>\n",
       "      <td>Yes</td>\n",
       "      <td>Applied Mathematics,Economics</td>\n",
       "      <td>NaN</td>\n",
       "      <td>In high school (including summer after graduat...</td>\n",
       "      <td>NaN</td>\n",
       "      <td>NaN</td>\n",
       "      <td>NaN</td>\n",
       "      <td>NaN</td>\n",
       "      <td>...</td>\n",
       "      <td>No</td>\n",
       "      <td>Questioning or unsure</td>\n",
       "      <td>Asian</td>\n",
       "      <td>NaN</td>\n",
       "      <td>No, not of Hispanic or Latinx origin</td>\n",
       "      <td>No</td>\n",
       "      <td>No</td>\n",
       "      <td>No, I have not been diagnosed with a disabilit...</td>\n",
       "      <td>NaN</td>\n",
       "      <td>2024-05-01</td>\n",
       "    </tr>\n",
       "  </tbody>\n",
       "</table>\n",
       "<p>5 rows × 77 columns</p>\n",
       "</div>"
      ],
      "text/plain": [
       "                    Q1       Q2   Q3  \\\n",
       "2     Computer Science  06/2025  Yes   \n",
       "3     Computer Science  05/2025  Yes   \n",
       "4            Undecided  05/2024   No   \n",
       "5              Physics  05/2024  Yes   \n",
       "6  Applied Mathematics  05/2024  Yes   \n",
       "\n",
       "                                                  Q4  \\\n",
       "2                                   Computer Science   \n",
       "3                                   Computer Science   \n",
       "4  Art, Film, and Visual Studies,Comparative Lite...   \n",
       "5                                            Physics   \n",
       "6                      Applied Mathematics,Economics   \n",
       "\n",
       "                                                  Q5  \\\n",
       "2                     My first-year academic advisor   \n",
       "3                                                NaN   \n",
       "4  Department heads,Department faculty,Department...   \n",
       "5  Residential advising resources, such as house ...   \n",
       "6                                                NaN   \n",
       "\n",
       "                                                  Q6 Q6_5_TEXT Q7_1 Q7_2 Q7_3  \\\n",
       "2  In high school (including summer after graduat...       NaN    4    3    2   \n",
       "3  In high school (including summer after graduat...       NaN    5    3    4   \n",
       "4  I have never been taught programming or comput...       NaN  NaN  NaN  NaN   \n",
       "5                                         In college       NaN  NaN  NaN  NaN   \n",
       "6  In high school (including summer after graduat...       NaN  NaN  NaN  NaN   \n",
       "\n",
       "   ...                Q31                    Q32  \\\n",
       "2  ...                 No  Straight/Heterosexual   \n",
       "3  ...                 No  Straight/Heterosexual   \n",
       "4  ...  Prefer not to say                  Queer   \n",
       "5  ...                 No  Questioning or unsure   \n",
       "6  ...                 No  Questioning or unsure   \n",
       "\n",
       "                                               Q33 Q33_8_TEXT  \\\n",
       "2                                            White        NaN   \n",
       "3                                            Asian        NaN   \n",
       "4                                            Asian        NaN   \n",
       "5  Asian,Native Hawaiian or Other Pacific Islander        NaN   \n",
       "6                                            Asian        NaN   \n",
       "\n",
       "                                    Q34 Q35  Q36  \\\n",
       "2  No, not of Hispanic or Latinx origin  No  Yes   \n",
       "3  No, not of Hispanic or Latinx origin  No   No   \n",
       "4  No, not of Hispanic or Latinx origin  No   No   \n",
       "5  No, not of Hispanic or Latinx origin  No   No   \n",
       "6  No, not of Hispanic or Latinx origin  No   No   \n",
       "\n",
       "                                                 Q37 Q37_4_TEXT      Q2_DT  \n",
       "2  No, I have not been diagnosed with a disabilit...        NaN 2025-06-01  \n",
       "3  No, I have not been diagnosed with a disabilit...        NaN 2025-05-01  \n",
       "4  No, I have not been diagnosed with a disabilit...        NaN 2024-05-01  \n",
       "5  No, I have not been diagnosed with a disabilit...        NaN 2024-05-01  \n",
       "6  No, I have not been diagnosed with a disabilit...        NaN 2024-05-01  \n",
       "\n",
       "[5 rows x 77 columns]"
      ]
     },
     "execution_count": 1086,
     "metadata": {},
     "output_type": "execute_result"
    }
   ],
   "source": [
    "# Question key, maps question ID to question text\n",
    "print(QUESTION_KEY['Q1'][0])\n",
    "CLEAN_DF.head()"
   ]
  },
  {
   "cell_type": "markdown",
   "id": "8fd1640b",
   "metadata": {},
   "source": [
    "### Filter by concentration/secondary"
   ]
  },
  {
   "cell_type": "code",
   "execution_count": 1087,
   "id": "96eeb0bf",
   "metadata": {},
   "outputs": [
    {
     "data": {
      "text/plain": [
       "(62, 77)"
      ]
     },
     "execution_count": 1087,
     "metadata": {},
     "output_type": "execute_result"
    }
   ],
   "source": [
    "# All primary SEAS concentrators\n",
    "CLEAN_DF[CLEAN_DF['Q1'].isin(SEAS)].shape"
   ]
  },
  {
   "cell_type": "code",
   "execution_count": 1088,
   "id": "2590bc2d",
   "metadata": {},
   "outputs": [
    {
     "data": {
      "text/plain": [
       "(91, 77)"
      ]
     },
     "execution_count": 1088,
     "metadata": {},
     "output_type": "execute_result"
    }
   ],
   "source": [
    "# All decided concentrators\n",
    "CLEAN_DF[~(CLEAN_DF['Q1'].isin(UNDECIDED))].shape"
   ]
  },
  {
   "cell_type": "code",
   "execution_count": 1089,
   "id": "138280bf",
   "metadata": {},
   "outputs": [
    {
     "data": {
      "text/plain": [
       "(53, 77)"
      ]
     },
     "execution_count": 1089,
     "metadata": {},
     "output_type": "execute_result"
    }
   ],
   "source": [
    "# All CS concentrators\n",
    "CLEAN_DF[(CLEAN_DF['Q1'] == 'Computer Science')].shape"
   ]
  },
  {
   "cell_type": "markdown",
   "id": "1aea4ba3",
   "metadata": {},
   "source": [
    "### Class year"
   ]
  },
  {
   "cell_type": "code",
   "execution_count": 1090,
   "id": "67d5440f",
   "metadata": {},
   "outputs": [
    {
     "data": {
      "text/plain": [
       "(21, 77)"
      ]
     },
     "execution_count": 1090,
     "metadata": {},
     "output_type": "execute_result"
    }
   ],
   "source": [
    "# All firstyears\n",
    "CLEAN_DF[FIRSTYEAR].shape"
   ]
  },
  {
   "cell_type": "code",
   "execution_count": 1091,
   "id": "e641ab8c",
   "metadata": {},
   "outputs": [
    {
     "data": {
      "text/plain": [
       "(27, 77)"
      ]
     },
     "execution_count": 1091,
     "metadata": {},
     "output_type": "execute_result"
    }
   ],
   "source": [
    "# All sophomores\n",
    "CLEAN_DF[SOPHOMORE].shape"
   ]
  },
  {
   "cell_type": "code",
   "execution_count": 1092,
   "id": "921f462d",
   "metadata": {},
   "outputs": [
    {
     "data": {
      "text/plain": [
       "(28, 77)"
      ]
     },
     "execution_count": 1092,
     "metadata": {},
     "output_type": "execute_result"
    }
   ],
   "source": [
    "# All juniors\n",
    "CLEAN_DF[JUNIOR].shape"
   ]
  },
  {
   "cell_type": "code",
   "execution_count": 1093,
   "id": "fa2846d9",
   "metadata": {},
   "outputs": [
    {
     "data": {
      "text/plain": [
       "(17, 77)"
      ]
     },
     "execution_count": 1093,
     "metadata": {},
     "output_type": "execute_result"
    }
   ],
   "source": [
    "# All seniors\n",
    "CLEAN_DF[SENIOR].shape"
   ]
  },
  {
   "cell_type": "markdown",
   "id": "e372cdd3",
   "metadata": {},
   "source": [
    "### Has enrolled in CS course"
   ]
  },
  {
   "cell_type": "code",
   "execution_count": 1094,
   "id": "8676a454",
   "metadata": {},
   "outputs": [
    {
     "data": {
      "text/plain": [
       "(78, 77)"
      ]
     },
     "execution_count": 1094,
     "metadata": {},
     "output_type": "execute_result"
    }
   ],
   "source": [
    "# All undergraduates who have enrolled in a CS course\n",
    "CLEAN_DF[CLEAN_DF['Q3'] == 'Yes'].shape"
   ]
  },
  {
   "cell_type": "markdown",
   "id": "87bf733c",
   "metadata": {},
   "source": [
    "### Gender identity"
   ]
  },
  {
   "cell_type": "code",
   "execution_count": 1095,
   "id": "0cdab60b",
   "metadata": {},
   "outputs": [
    {
     "data": {
      "text/plain": [
       "(18, 77)"
      ]
     },
     "execution_count": 1095,
     "metadata": {},
     "output_type": "execute_result"
    }
   ],
   "source": [
    "# All male respondents\n",
    "CLEAN_DF[CLEAN_DF['Q30'].isin(MALE)].shape"
   ]
  },
  {
   "cell_type": "code",
   "execution_count": 1096,
   "id": "b48d7f3a",
   "metadata": {},
   "outputs": [
    {
     "data": {
      "text/plain": [
       "(72, 77)"
      ]
     },
     "execution_count": 1096,
     "metadata": {},
     "output_type": "execute_result"
    }
   ],
   "source": [
    "# All female, non-binary/third gender, agender, and genderqueer respondents\n",
    "CLEAN_DF[CLEAN_DF['Q30'].isin(NONMALE)].shape"
   ]
  },
  {
   "cell_type": "markdown",
   "id": "43c23060",
   "metadata": {},
   "source": [
    "### BGLTQ+"
   ]
  },
  {
   "cell_type": "code",
   "execution_count": 1097,
   "id": "7c7bd643",
   "metadata": {},
   "outputs": [
    {
     "data": {
      "text/plain": [
       "(31, 77)"
      ]
     },
     "execution_count": 1097,
     "metadata": {},
     "output_type": "execute_result"
    }
   ],
   "source": [
    "# All BGLTQ+ respondents\n",
    "CLEAN_DF[CLEAN_DF['Q32'].isin(NONSTRAIGHT)].shape"
   ]
  },
  {
   "cell_type": "code",
   "execution_count": 1098,
   "id": "5fe94683",
   "metadata": {},
   "outputs": [
    {
     "data": {
      "text/plain": [
       "(59, 77)"
      ]
     },
     "execution_count": 1098,
     "metadata": {},
     "output_type": "execute_result"
    }
   ],
   "source": [
    "# All non BGLTQ+ respondents\n",
    "CLEAN_DF[CLEAN_DF['Q32'].isin(STRAIGHT)].shape"
   ]
  },
  {
   "cell_type": "markdown",
   "id": "ce61d8c5",
   "metadata": {},
   "source": [
    "### Race and ethnicity"
   ]
  },
  {
   "cell_type": "code",
   "execution_count": 1099,
   "id": "dc07a8a8",
   "metadata": {},
   "outputs": [
    {
     "data": {
      "text/plain": [
       "(29, 77)"
      ]
     },
     "execution_count": 1099,
     "metadata": {},
     "output_type": "execute_result"
    }
   ],
   "source": [
    "# All White respondents\n",
    "CLEAN_DF[CLEAN_DF['Q33'].str.contains('White', na=False)].shape"
   ]
  },
  {
   "cell_type": "code",
   "execution_count": 1100,
   "id": "64d4c2eb",
   "metadata": {},
   "outputs": [
    {
     "data": {
      "text/plain": [
       "(65, 77)"
      ]
     },
     "execution_count": 1100,
     "metadata": {},
     "output_type": "execute_result"
    }
   ],
   "source": [
    "# All Asian respondents\n",
    "CLEAN_DF[CLEAN_DF['Q33'].str.contains('Asian', na=False)].shape"
   ]
  },
  {
   "cell_type": "code",
   "execution_count": 1101,
   "id": "ba092d26",
   "metadata": {},
   "outputs": [
    {
     "data": {
      "text/plain": [
       "(4, 77)"
      ]
     },
     "execution_count": 1101,
     "metadata": {},
     "output_type": "execute_result"
    }
   ],
   "source": [
    "# All Black respondents\n",
    "CLEAN_DF[CLEAN_DF['Q33'].str.contains('Black or African American', na=False)].shape"
   ]
  },
  {
   "cell_type": "code",
   "execution_count": 1102,
   "id": "0fe2965b",
   "metadata": {},
   "outputs": [
    {
     "data": {
      "text/plain": [
       "(3, 77)"
      ]
     },
     "execution_count": 1102,
     "metadata": {},
     "output_type": "execute_result"
    }
   ],
   "source": [
    "# All Hispanic / Latinx respondents\n",
    "CLEAN_DF[CLEAN_DF['Q34'] == 'Yes, of Hispanic or Latinx origin'].shape"
   ]
  },
  {
   "cell_type": "markdown",
   "id": "c20bdd43",
   "metadata": {},
   "source": [
    "### FGLI (first generation, low income)"
   ]
  },
  {
   "cell_type": "code",
   "execution_count": 1103,
   "id": "991b0486",
   "metadata": {},
   "outputs": [
    {
     "data": {
      "text/plain": [
       "(9, 77)"
      ]
     },
     "execution_count": 1103,
     "metadata": {},
     "output_type": "execute_result"
    }
   ],
   "source": [
    "# All first generation respondents\n",
    "CLEAN_DF[CLEAN_DF['Q35'] == 'Yes'].shape"
   ]
  },
  {
   "cell_type": "code",
   "execution_count": 1104,
   "id": "37c12de5",
   "metadata": {},
   "outputs": [
    {
     "data": {
      "text/plain": [
       "(14, 77)"
      ]
     },
     "execution_count": 1104,
     "metadata": {},
     "output_type": "execute_result"
    }
   ],
   "source": [
    "# All low income respondents\n",
    "CLEAN_DF[CLEAN_DF['Q36'] == 'Yes'].shape"
   ]
  },
  {
   "cell_type": "markdown",
   "id": "1985bad9",
   "metadata": {},
   "source": [
    "### Diagnosed with disability/impairment"
   ]
  },
  {
   "cell_type": "code",
   "execution_count": 1105,
   "id": "6db305db",
   "metadata": {},
   "outputs": [
    {
     "data": {
      "text/plain": [
       "(7, 77)"
      ]
     },
     "execution_count": 1105,
     "metadata": {},
     "output_type": "execute_result"
    }
   ],
   "source": [
    "# All respondents diagnosed with a disability or impairment\n",
    "CLEAN_DF[CLEAN_DF['Q37'].isin(DIAGNOSED)].shape"
   ]
  },
  {
   "cell_type": "code",
   "execution_count": 1106,
   "id": "e9cc83c5",
   "metadata": {},
   "outputs": [
    {
     "data": {
      "text/plain": [
       "(76, 77)"
      ]
     },
     "execution_count": 1106,
     "metadata": {},
     "output_type": "execute_result"
    }
   ],
   "source": [
    "# All respondents not diagnosed with a disability or impairment\n",
    "CLEAN_DF[CLEAN_DF['Q37'].isin(NONDIAGNOSED)].shape"
   ]
  },
  {
   "cell_type": "markdown",
   "id": "ce0819ba",
   "metadata": {},
   "source": [
    "# Your Turn!"
   ]
  },
  {
   "cell_type": "markdown",
   "id": "01d1c55f",
   "metadata": {},
   "source": [
    "For each question, consider how the responses vary based on each of the following factors:\n",
    "* School (SEAS, Arts/Humanties, Social Sciences, Pure Sciences) where applicable\n",
    "* Class year\n",
    "* Gender identity\n",
    "* BGLTQ+\n",
    "* Race and ethnicity\n",
    "* FGLI (first generation, low income)\n",
    "* Disability\n",
    "\n",
    "Be sure to consider combinations of factors as well (ex: Gender Identity + Race/Ethnicity). Ensure that n > 5 for all population groups."
   ]
  },
  {
   "cell_type": "markdown",
   "id": "f562eb15",
   "metadata": {},
   "source": [
    "### Section 3 (Q12, Q13, Q14, Q15, Q21)"
   ]
  },
  {
   "cell_type": "code",
   "execution_count": 1107,
   "id": "3d24d6df",
   "metadata": {
    "scrolled": true
   },
   "outputs": [
    {
     "name": "stdout",
     "output_type": "stream",
     "text": [
      "Indicate which of the following Harvard CS courses you have taken, including in this semester:\n"
     ]
    }
   ],
   "source": [
    "print(QUESTION_KEY['Q12'][0])\n",
    "\n",
    "Q12_OPTIONS = [\n",
    "    'CS 1: Great Ideas in Computer Science',\n",
    "    'CS 1: Great Ideas in Computer Science',\n",
    "    'CS 10: Elements of Data Science',\n",
    "    'CS 20: Discrete Mathematics for Computer Science',\n",
    "    'CS 50: Introduction to Computer Science I',\n",
    "    'CS 51: Introduction to Computer Science II',\n",
    "    'CS 61: Systems Programming and Machine Organization',\n",
    "    'CS 121: Introduction to Theoretical Computer Science',\n",
    "    'CS 124: Data Structures and Algorithms',\n",
    "    'CS 9x, an undergraduate-level research CS course',\n",
    "    'CS 12x, an undergraduate-level theoretical CS course (other than CS 121 or CS 124)',\n",
    "    'CS 13x, an undergraduate-level economics/computation course',\n",
    "    'CS 14x, an undergraduate-level networks course',\n",
    "    'CS 15x, an undergraduate-level programming languages course',\n",
    "    'CS 16x, an undergraduate-level systems course',\n",
    "    'CS 17x, an undergraduate-level graphics/visualization/user interfaces course',\n",
    "    'CS 18x, an undergraduate-level artificial intelligence course',\n",
    "    'CS 10x, an undergraduate-level miscellaneous course',\n",
    "    'CS 22x, a graduate-level theoretical computer science course',\n",
    "    'CS 23x, a graduate-level economics/computation course',\n",
    "    'CS 24x, a graduate-level networks course',\n",
    "    'CS 25x, a graduate-level programming languages course',\n",
    "    'CS 26x, a graduate-level systems course',\n",
    "    'CS 27x, a graduate-level graphics/visualization/user interfaces course',\n",
    "    'CS 28x, a graduate-level artificial intelligence course',\n",
    "    'CS 20x, a graduate-level miscellaneous course'\n",
    "]"
   ]
  },
  {
   "cell_type": "code",
   "execution_count": 1108,
   "id": "6f53f66b",
   "metadata": {},
   "outputs": [],
   "source": [
    "# import pylab as pl\n",
    "# non_num_questions = ['Q12','Q14','Q15']\n",
    "# # num_questions = ['Q13','Q21_1','Q21_2','Q21_3']\n",
    "# num_questions = ['Q13']\n",
    "\n",
    "# #fix analysis for q21, doesn't recognize numerical data\n",
    "\n",
    "# # add column with likert scale as number\n",
    "# CLEAN_DF['Q13'] = CLEAN_DF['Q13'].map(LIKERT_AGREEMENT_KEY)\n",
    "\n",
    "# for quest in num_questions:\n",
    "#     print(QUESTION_KEY[quest][0] + '\\n')\n",
    "#     CLEAN_DF[quest].dropna\n",
    "    \n",
    "#     #by concentration range\n",
    "#     histogram = CLEAN_DF[CLEAN_DF['Q1'].isin(SEAS)].hist(column=[quest])\n",
    "#     pl.suptitle(quest + ' -- SEAS')\n",
    "#     histogram = CLEAN_DF[CLEAN_DF['Q1'].isin(PURE_SCIENCES)].hist(column=[quest])\n",
    "#     pl.suptitle(quest + ' -- Pure Sciences')\n",
    "#     histogram = CLEAN_DF[CLEAN_DF['Q1'].isin(ARTS_HUMANITIES + SOCIAL_SCIENCES + PURE_SCIENCES + SEAS + UNDECIDED + NONE)].hist(column=[quest])\n",
    "#     pl.suptitle(quest + ' -- Other Concentrations')\n",
    "\n",
    "#     # by class year\n",
    "#     histogram = CLEAN_DF[FIRSTYEAR].hist(column=[quest])\n",
    "#     pl.suptitle(quest + ' -- Firstyear')\n",
    "#     histogram = CLEAN_DF[SOPHOMORE].hist(column=[quest])\n",
    "#     pl.suptitle(quest + ' -- Sophomore')\n",
    "#     histogram = CLEAN_DF[JUNIOR].hist(column=[quest])\n",
    "#     pl.suptitle(quest + ' -- Junior')\n",
    "#     histogram = CLEAN_DF[SENIOR].hist(column=[quest])\n",
    "#     pl.suptitle(quest + ' -- Senior')\n",
    "\n",
    "#     # by gender\n",
    "#     histogram = CLEAN_DF[CLEAN_DF['Q30'].isin(MALE)].hist(column=[quest])\n",
    "#     pl.suptitle('Male')\n",
    "#     histogram = CLEAN_DF[CLEAN_DF['Q30'].isin(NONMALE)].hist(column=[quest])\n",
    "#     pl.suptitle('Non-Male')\n",
    "\n",
    "#     # by BGLTQ\n",
    "#     histogram = CLEAN_DF[CLEAN_DF['Q32'].isin(NONSTRAIGHT)].hist(column=[quest])\n",
    "#     pl.suptitle('BGLTQ+')\n",
    "#     histogram = CLEAN_DF[CLEAN_DF['Q32'].isin(STRAIGHT)].hist(column=[quest])\n",
    "#     pl.suptitle('Not BGLTQ+')\n",
    "\n",
    "#     # by race\n",
    "#     # All White respondents\n",
    "#     histogram = CLEAN_DF[CLEAN_DF['Q33'].str.contains('White', na=False)].hist(column=[quest])\n",
    "#     pl.suptitle('White')\n",
    "\n",
    "\n",
    "#     # All Asian respondents\n",
    "#     histogram = CLEAN_DF[CLEAN_DF['Q33'].str.contains('Asian', na=False)].hist(column=[quest])\n",
    "#     pl.suptitle('Asian')\n",
    "    \n",
    "#     # All Black respondents\n",
    "#     histogram = CLEAN_DF[CLEAN_DF['Q33'].str.contains('Black or African American', na=False)].hist(column=[quest])\n",
    "#     pl.suptitle('Black or African American')\n",
    "\n",
    "#     # All Hispanic / Latinx respondents\n",
    "#     histogram = CLEAN_DF[CLEAN_DF['Q33'].str.contains('Yes, of Hispanic or Latinx origin', na=False)].hist(column=[quest])\n",
    "#     pl.suptitle('Hispanic or Latinx origin')\n",
    "\n",
    "#     # by FGLI\n",
    "#     histogram = CLEAN_DF[CLEAN_DF['Q35'] == 'Yes'].hist(column=[quest])\n",
    "#     pl.suptitle('First generation')\n",
    "#     histogram = CLEAN_DF[CLEAN_DF['Q35'] != 'Yes'].hist(column=[quest])\n",
    "#     pl.suptitle('not first generation')\n",
    "\n",
    "#     histogram = CLEAN_DF[CLEAN_DF['Q36'] == 'Yes'].hist(column=[quest])\n",
    "#     pl.suptitle('Low income')\n",
    "#     histogram = CLEAN_DF[CLEAN_DF['Q36'] != 'Yes'].hist(column=[quest])\n",
    "#     pl.suptitle('not low income')\n",
    "\n",
    "#     # by Disability\n",
    "#     histogram = CLEAN_DF[CLEAN_DF['Q37'].isin(DIAGNOSED)].hist(column=[quest])\n",
    "#     pl.suptitle('Diagnosed')\n",
    "#     histogram = CLEAN_DF[CLEAN_DF['Q37'].isin(NONDIAGNOSED)].hist(column=[quest])\n",
    "#     pl.suptitle('not Diagnosed')"
   ]
  },
  {
   "cell_type": "code",
   "execution_count": 1109,
   "id": "2889f1d1",
   "metadata": {},
   "outputs": [
    {
     "name": "stdout",
     "output_type": "stream",
     "text": [
      "Please indicate the extent to which you disagree or agree with each of the following statements: The student community within my primary concentration is (1 - strongly disagree, 4 - neither agree nor disagree, 7 - strongly agree) - Academically supportive\n",
      "\n"
     ]
    },
    {
     "data": {
      "text/plain": [
       "2       5\n",
       "3       6\n",
       "4     NaN\n",
       "5       6\n",
       "6       4\n",
       "     ... \n",
       "91      6\n",
       "92      4\n",
       "93      4\n",
       "94      7\n",
       "95      5\n",
       "Name: Q21_1, Length: 93, dtype: object"
      ]
     },
     "metadata": {},
     "output_type": "display_data"
    },
    {
     "ename": "ValueError",
     "evalue": "hist method requires numerical or datetime columns, nothing to plot.",
     "output_type": "error",
     "traceback": [
      "\u001b[0;31m---------------------------------------------------------------------------\u001b[0m",
      "\u001b[0;31mValueError\u001b[0m                                Traceback (most recent call last)",
      "\u001b[0;32m/var/folders/tp/0v3nbqvs3f7b0t6vkpl26kfr0000gn/T/ipykernel_30495/821400138.py\u001b[0m in \u001b[0;36m<module>\u001b[0;34m\u001b[0m\n\u001b[1;32m     15\u001b[0m \u001b[0;34m\u001b[0m\u001b[0m\n\u001b[1;32m     16\u001b[0m     \u001b[0;31m#by concentration range\u001b[0m\u001b[0;34m\u001b[0m\u001b[0;34m\u001b[0m\u001b[0;34m\u001b[0m\u001b[0m\n\u001b[0;32m---> 17\u001b[0;31m     \u001b[0mhistogram\u001b[0m \u001b[0;34m=\u001b[0m \u001b[0mCLEAN_DF\u001b[0m\u001b[0;34m[\u001b[0m\u001b[0mCLEAN_DF\u001b[0m\u001b[0;34m[\u001b[0m\u001b[0;34m'Q1'\u001b[0m\u001b[0;34m]\u001b[0m\u001b[0;34m.\u001b[0m\u001b[0misin\u001b[0m\u001b[0;34m(\u001b[0m\u001b[0mSEAS\u001b[0m\u001b[0;34m)\u001b[0m\u001b[0;34m]\u001b[0m\u001b[0;34m.\u001b[0m\u001b[0mhist\u001b[0m\u001b[0;34m(\u001b[0m\u001b[0mcolumn\u001b[0m\u001b[0;34m=\u001b[0m\u001b[0;34m[\u001b[0m\u001b[0mquest\u001b[0m\u001b[0;34m]\u001b[0m\u001b[0;34m)\u001b[0m\u001b[0;34m\u001b[0m\u001b[0;34m\u001b[0m\u001b[0m\n\u001b[0m\u001b[1;32m     18\u001b[0m     \u001b[0mpl\u001b[0m\u001b[0;34m.\u001b[0m\u001b[0msuptitle\u001b[0m\u001b[0;34m(\u001b[0m\u001b[0mquest\u001b[0m \u001b[0;34m+\u001b[0m \u001b[0;34m' -- SEAS'\u001b[0m\u001b[0;34m)\u001b[0m\u001b[0;34m\u001b[0m\u001b[0;34m\u001b[0m\u001b[0m\n\u001b[1;32m     19\u001b[0m     \u001b[0mhistogram\u001b[0m \u001b[0;34m=\u001b[0m \u001b[0mCLEAN_DF\u001b[0m\u001b[0;34m[\u001b[0m\u001b[0mCLEAN_DF\u001b[0m\u001b[0;34m[\u001b[0m\u001b[0;34m'Q1'\u001b[0m\u001b[0;34m]\u001b[0m\u001b[0;34m.\u001b[0m\u001b[0misin\u001b[0m\u001b[0;34m(\u001b[0m\u001b[0mPURE_SCIENCES\u001b[0m\u001b[0;34m)\u001b[0m\u001b[0;34m]\u001b[0m\u001b[0;34m.\u001b[0m\u001b[0mhist\u001b[0m\u001b[0;34m(\u001b[0m\u001b[0mcolumn\u001b[0m\u001b[0;34m=\u001b[0m\u001b[0;34m[\u001b[0m\u001b[0mquest\u001b[0m\u001b[0;34m]\u001b[0m\u001b[0;34m)\u001b[0m\u001b[0;34m\u001b[0m\u001b[0;34m\u001b[0m\u001b[0m\n",
      "\u001b[0;32m~/Library/Python/3.9/lib/python/site-packages/pandas/plotting/_core.py\u001b[0m in \u001b[0;36mhist_frame\u001b[0;34m(data, column, by, grid, xlabelsize, xrot, ylabelsize, yrot, ax, sharex, sharey, figsize, layout, bins, backend, legend, **kwargs)\u001b[0m\n\u001b[1;32m    224\u001b[0m     \"\"\"\n\u001b[1;32m    225\u001b[0m     \u001b[0mplot_backend\u001b[0m \u001b[0;34m=\u001b[0m \u001b[0m_get_plot_backend\u001b[0m\u001b[0;34m(\u001b[0m\u001b[0mbackend\u001b[0m\u001b[0;34m)\u001b[0m\u001b[0;34m\u001b[0m\u001b[0;34m\u001b[0m\u001b[0m\n\u001b[0;32m--> 226\u001b[0;31m     return plot_backend.hist_frame(\n\u001b[0m\u001b[1;32m    227\u001b[0m         \u001b[0mdata\u001b[0m\u001b[0;34m,\u001b[0m\u001b[0;34m\u001b[0m\u001b[0;34m\u001b[0m\u001b[0m\n\u001b[1;32m    228\u001b[0m         \u001b[0mcolumn\u001b[0m\u001b[0;34m=\u001b[0m\u001b[0mcolumn\u001b[0m\u001b[0;34m,\u001b[0m\u001b[0;34m\u001b[0m\u001b[0;34m\u001b[0m\u001b[0m\n",
      "\u001b[0;32m~/Library/Python/3.9/lib/python/site-packages/pandas/plotting/_matplotlib/hist.py\u001b[0m in \u001b[0;36mhist_frame\u001b[0;34m(data, column, by, grid, xlabelsize, xrot, ylabelsize, yrot, ax, sharex, sharey, figsize, layout, bins, legend, **kwds)\u001b[0m\n\u001b[1;32m    441\u001b[0m \u001b[0;34m\u001b[0m\u001b[0m\n\u001b[1;32m    442\u001b[0m     \u001b[0;32mif\u001b[0m \u001b[0mnaxes\u001b[0m \u001b[0;34m==\u001b[0m \u001b[0;36m0\u001b[0m\u001b[0;34m:\u001b[0m\u001b[0;34m\u001b[0m\u001b[0;34m\u001b[0m\u001b[0m\n\u001b[0;32m--> 443\u001b[0;31m         raise ValueError(\n\u001b[0m\u001b[1;32m    444\u001b[0m             \u001b[0;34m\"hist method requires numerical or datetime columns, nothing to plot.\"\u001b[0m\u001b[0;34m\u001b[0m\u001b[0;34m\u001b[0m\u001b[0m\n\u001b[1;32m    445\u001b[0m         )\n",
      "\u001b[0;31mValueError\u001b[0m: hist method requires numerical or datetime columns, nothing to plot."
     ]
    }
   ],
   "source": [
    "import pylab as pl\n",
    "non_num_questions = ['Q12','Q14','Q15']\n",
    "# num_questions = ['Q13','Q21_1','Q21_2','Q21_3']\n",
    "num_questions = ['Q21_1']\n",
    "\n",
    "#fix analysis for q21, doesn't recognize numerical data - for 21, ints are currently seen as objects (aka string)\n",
    "\n",
    "\n",
    "for quest in num_questions:\n",
    "    print(QUESTION_KEY[quest][0] + '\\n')\n",
    "    CLEAN_DF[quest] = CLEAN_DF[quest].astype(int, errors='ignore')\n",
    "    CLEAN_DF[quest].dropna\n",
    "    display(CLEAN_DF[quest])\n",
    "    CLEAN_DF[quest].dtypes\n",
    "    \n",
    "    #fix above lines^^\n",
    "    \n",
    "    #by concentration range\n",
    "    histogram = CLEAN_DF[CLEAN_DF['Q1'].isin(SEAS)].hist(column=[quest])\n",
    "    pl.suptitle(quest + ' -- SEAS')\n",
    "    histogram = CLEAN_DF[CLEAN_DF['Q1'].isin(PURE_SCIENCES)].hist(column=[quest])\n",
    "    pl.suptitle(quest + ' -- Pure Sciences')\n",
    "    histogram = CLEAN_DF[CLEAN_DF['Q1'].isin(ARTS_HUMANITIES + SOCIAL_SCIENCES + PURE_SCIENCES + SEAS + UNDECIDED + NONE)].hist(column=[quest])\n",
    "    pl.suptitle(quest + ' -- Other Concentrations')\n",
    "\n",
    "    # by class year\n",
    "    histogram = CLEAN_DF[FIRSTYEAR].hist(column=[quest])\n",
    "    pl.suptitle(quest + ' -- Firstyear')\n",
    "    histogram = CLEAN_DF[SOPHOMORE].hist(column=[quest])\n",
    "    pl.suptitle(quest + ' -- Sophomore')\n",
    "    histogram = CLEAN_DF[JUNIOR].hist(column=[quest])\n",
    "    pl.suptitle(quest + ' -- Junior')\n",
    "    histogram = CLEAN_DF[SENIOR].hist(column=[quest])\n",
    "    pl.suptitle(quest + ' -- Senior')\n",
    "\n",
    "    # by gender\n",
    "    histogram = CLEAN_DF[CLEAN_DF['Q30'].isin(MALE)].hist(column=[quest])\n",
    "    pl.suptitle('Male')\n",
    "    histogram = CLEAN_DF[CLEAN_DF['Q30'].isin(NONMALE)].hist(column=[quest])\n",
    "    pl.suptitle('Non-Male')\n",
    "\n",
    "    # by BGLTQ\n",
    "    histogram = CLEAN_DF[CLEAN_DF['Q32'].isin(NONSTRAIGHT)].hist(column=[quest])\n",
    "    pl.suptitle('BGLTQ+')\n",
    "    histogram = CLEAN_DF[CLEAN_DF['Q32'].isin(STRAIGHT)].hist(column=[quest])\n",
    "    pl.suptitle('Not BGLTQ+')\n",
    "\n",
    "    # by race\n",
    "    # All White respondents\n",
    "    histogram = CLEAN_DF[CLEAN_DF['Q33'].str.contains('White', na=False)].hist(column=[quest])\n",
    "    pl.suptitle('White')\n",
    "\n",
    "\n",
    "    # All Asian respondents\n",
    "    histogram = CLEAN_DF[CLEAN_DF['Q33'].str.contains('Asian', na=False)].hist(column=[quest])\n",
    "    pl.suptitle('Asian')\n",
    "    \n",
    "    # All Black respondents\n",
    "    histogram = CLEAN_DF[CLEAN_DF['Q33'].str.contains('Black or African American', na=False)].hist(column=[quest])\n",
    "    pl.suptitle('Black or African American')\n",
    "\n",
    "    # All Hispanic / Latinx respondents\n",
    "    histogram = CLEAN_DF[CLEAN_DF['Q33'].str.contains('Yes, of Hispanic or Latinx origin', na=False)].hist(column=[quest])\n",
    "    pl.suptitle('Hispanic or Latinx origin')\n",
    "\n",
    "    # by FGLI\n",
    "    histogram = CLEAN_DF[CLEAN_DF['Q35'] == 'Yes'].hist(column=[quest])\n",
    "    pl.suptitle('First generation')\n",
    "    histogram = CLEAN_DF[CLEAN_DF['Q35'] != 'Yes'].hist(column=[quest])\n",
    "    pl.suptitle('not first generation')\n",
    "\n",
    "    histogram = CLEAN_DF[CLEAN_DF['Q36'] == 'Yes'].hist(column=[quest])\n",
    "    pl.suptitle('Low income')\n",
    "    histogram = CLEAN_DF[CLEAN_DF['Q36'] != 'Yes'].hist(column=[quest])\n",
    "    pl.suptitle('not low income')\n",
    "\n",
    "    # by Disability\n",
    "    histogram = CLEAN_DF[CLEAN_DF['Q37'].isin(DIAGNOSED)].hist(column=[quest])\n",
    "    pl.suptitle('Diagnosed')\n",
    "    histogram = CLEAN_DF[CLEAN_DF['Q37'].isin(NONDIAGNOSED)].hist(column=[quest])\n",
    "    pl.suptitle('not Diagnosed')"
   ]
  },
  {
   "cell_type": "code",
   "execution_count": null,
   "id": "d78d19c4",
   "metadata": {},
   "outputs": [],
   "source": []
  },
  {
   "cell_type": "code",
   "execution_count": null,
   "id": "b0b4e54c",
   "metadata": {},
   "outputs": [],
   "source": []
  },
  {
   "cell_type": "code",
   "execution_count": null,
   "id": "a79681e1",
   "metadata": {
    "scrolled": true
   },
   "outputs": [],
   "source": [
    "questions = ['Q12','Q13','Q14','Q15','Q21_1','Q21_2','Q21_3']\n",
    "for q in questions:\n",
    "    print(QUESTION_KEY[q][0] + '\\n')"
   ]
  },
  {
   "cell_type": "code",
   "execution_count": null,
   "id": "e268f1b4",
   "metadata": {},
   "outputs": [],
   "source": []
  }
 ],
 "metadata": {
  "kernelspec": {
   "display_name": "Python 3 (ipykernel)",
   "language": "python",
   "name": "python3"
  },
  "language_info": {
   "codemirror_mode": {
    "name": "ipython",
    "version": 3
   },
   "file_extension": ".py",
   "mimetype": "text/x-python",
   "name": "python",
   "nbconvert_exporter": "python",
   "pygments_lexer": "ipython3",
   "version": "3.9.6"
  }
 },
 "nbformat": 4,
 "nbformat_minor": 5
}
